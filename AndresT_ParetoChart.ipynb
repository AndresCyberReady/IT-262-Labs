{
  "nbformat": 4,
  "nbformat_minor": 0,
  "metadata": {
    "colab": {
      "name": "AndresT_ParetoChart.ipynb",
      "provenance": []
    },
    "kernelspec": {
      "name": "python3",
      "display_name": "Python 3"
    },
    "language_info": {
      "name": "python"
    }
  },
  "cells": [
    {
      "cell_type": "code",
      "execution_count": 4,
      "metadata": {
        "colab": {
          "base_uri": "https://localhost:8080/"
        },
        "id": "T87YYtiar8ux",
        "outputId": "c5ff5902-a95b-40ce-98ff-7f937b5912a6"
      },
      "outputs": [
        {
          "output_type": "stream",
          "name": "stdout",
          "text": [
            "       reason                         description  frequency\n",
            "0         ERP                    myIllinoinsState          7\n",
            "1         VPN                connection from home         10\n",
            "2       email                   unable to message         18\n",
            "3         PCs  office computers for staff/faculty         12\n",
            "4     printer                     unable to print         10\n",
            "5    internet                   connection issues         22\n",
            "6   ReggieNet            issues accesing features          8\n",
            "7      mobile       mobile devices not connecting         14\n",
            "8    password               password reset issues         11\n",
            "9        VoIP  phone / voice message difficulties         15\n",
            "10   hardware             general hardware issues         25\n",
            "11  Office365             question accessing apps         13\n"
          ]
        }
      ],
      "source": [
        "import pandas as pd\n",
        "import matplotlib.pyplot as plt\n",
        "from matplotlib.ticker import PercentFormatter\n",
        "\n",
        "##uplod the helpdesk.csv to your google drive\n",
        "df=pd.read_csv(\"/content/drive/MyDrive/IT 262/HelpDesk.csv\")\n",
        "print(df)"
      ]
    },
    {
      "cell_type": "code",
      "source": [
        "#set this colum as index - to use a plot labels\n",
        "df.index = df['reason']\n",
        "#descending sort\n",
        "df = df.sort_values(by='frequency', ascending=False)"
      ],
      "metadata": {
        "id": "XmrjSMNdssCi"
      },
      "execution_count": 6,
      "outputs": []
    },
    {
      "cell_type": "code",
      "source": [
        "#cumulative percetage column is created using cumsum function\n",
        "df[\"cumulativePercentage\"] = df[\"frequency\"].cumsum()/df[\"frequency\"].sum()*100\n",
        "\n",
        "#making sure only 2 decimal points are shown\n",
        "df[\"culativePercetage\"]=df[\"cumulativePercentage\"].apply(lambda x: round(x,2))\n",
        "print(df)"
      ],
      "metadata": {
        "colab": {
          "base_uri": "https://localhost:8080/"
        },
        "id": "EwIpHy5dtD5y",
        "outputId": "3b68fac9-e21e-48c3-a169-ca5f40bed698"
      },
      "execution_count": 7,
      "outputs": [
        {
          "output_type": "stream",
          "name": "stdout",
          "text": [
            "              reason  ... culativePercetage\n",
            "reason                ...                  \n",
            "hardware    hardware  ...             15.15\n",
            "internet    internet  ...             28.48\n",
            "email          email  ...             39.39\n",
            "VoIP            VoIP  ...             48.48\n",
            "mobile        mobile  ...             56.97\n",
            "Office365  Office365  ...             64.85\n",
            "PCs              PCs  ...             72.12\n",
            "password    password  ...             78.79\n",
            "VPN              VPN  ...             84.85\n",
            "printer      printer  ...             90.91\n",
            "ReggieNet  ReggieNet  ...             95.76\n",
            "ERP              ERP  ...            100.00\n",
            "\n",
            "[12 rows x 5 columns]\n"
          ]
        }
      ]
    },
    {
      "cell_type": "code",
      "source": [
        "fig, ax = plt.subplots()\n",
        "ax.bar(df.index,df[\"frequency\"], color=\"C0\")\n",
        "\n",
        "#show labels diagonally\n",
        "ax.set_xticklabels( df['reason'], rotation=45 )\n",
        "\n",
        "#ax2 and ax1 willl be shown at the same time with twinx\n",
        "ax2 = ax.twinx()\n",
        "\n",
        "ax2.plot(df.index, df[\"cumulativePercentage\"], color=\"C1\", marker=\"D\", ms=7)\n",
        "ax2.yaxis.set_major_formatter(PercentFormatter())\n",
        "\n",
        "ax.tick_params(axis=\"y\", colors=\"C0\")\n",
        "ax2.tick_params(axis=\"y\", colors=\"C1\")\n",
        "#plt.xticks(rotation=45, ha\"right\")\n",
        "plt.show()"
      ],
      "metadata": {
        "colab": {
          "base_uri": "https://localhost:8080/",
          "height": 299
        },
        "id": "sw6mKGzdtjzb",
        "outputId": "ebe6c1d5-fd37-4a66-b77a-b01631c2f9c0"
      },
      "execution_count": 16,
      "outputs": [
        {
          "output_type": "display_data",
          "data": {
            "image/png": "[encoded data removed]",
            "text/plain": [
              "<Figure size 432x288 with 2 Axes>"
            ]
          },
          "metadata": {}
        }
      ]
    }
  ]
}